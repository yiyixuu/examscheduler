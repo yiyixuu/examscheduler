{
 "cells": [
  {
   "cell_type": "code",
   "execution_count": 151,
   "metadata": {},
   "outputs": [],
   "source": [
    "from ics import Calendar, Event\n",
    "from datetime import datetime, timedelta\n",
    "import pandas as pd"
   ]
  },
  {
   "cell_type": "code",
   "execution_count": 152,
   "metadata": {},
   "outputs": [],
   "source": [
    "def filter_courses_by_last_name(selected_courses, last_name):\n",
    "    # Filter the selected courses based on the user's last name\n",
    "    filtered_courses = []\n",
    "    for index, row in selected_courses.iterrows():\n",
    "        surname_range = row['Surname Range']\n",
    "        if pd.isna(surname_range) or \"-\" not in surname_range:\n",
    "            filtered_courses.append(row)\n",
    "        else:\n",
    "            start_surname, end_surname = surname_range.split(\"-\")\n",
    "            if start_surname.strip().upper() <= last_name.upper() <= end_surname.strip().upper() or last_name.upper().startswith(end_surname.strip().upper()[0]):\n",
    "                filtered_courses.append(row)\n",
    "    return pd.DataFrame(filtered_courses)"
   ]
  },
  {
   "cell_type": "code",
   "execution_count": 153,
   "metadata": {},
   "outputs": [],
   "source": [
    "def create_exam_calendar(selected_courses):\n",
    "    # Create a new calendar\n",
    "    calendar = Calendar()\n",
    "\n",
    "    # Iterate over each row and add an event for each exam\n",
    "    for index, row in selected_courses.iterrows():\n",
    "        exam_event = Event()\n",
    "        exam_event.name = f\"{row['Course']} Final Exam\"\n",
    "        exam_date_time = pd.to_datetime(f\"{row['Date']} {row['Time']}\")\n",
    "        exam_event.begin = exam_date_time.tz_localize('America/New_York')\n",
    "        exam_event.end = (exam_date_time + timedelta(hours=2, minutes=30)).tz_localize('America/New_York')  # Assuming exams are 2.5 hours long\n",
    "        exam_event.location = row['Location'].replace('-', '')\n",
    "\n",
    "                # Add a description to the event\n",
    "        exam_event.description = f\"{row['Course Title']}, Surname Range: {row['Surname Range']}\"\n",
    "\n",
    "        # Add the event to the calendar\n",
    "        calendar.events.add(exam_event)\n",
    "\n",
    "    # Write to an .ics file\n",
    "    with open(f\"{user_last_name.lower()}_final_exams_2024_fall.ics\", 'w') as ics_file:\n",
    "        ics_file.writelines(calendar)\n",
    "\n",
    "    print(f\"Calendar exported successfully as {user_last_name.lower()}_final_exams_2024_fall.ics!\")"
   ]
  },
  {
   "cell_type": "code",
   "execution_count": 154,
   "metadata": {},
   "outputs": [
    {
     "name": "stderr",
     "output_type": "stream",
     "text": [
      "/Library/Frameworks/Python.framework/Versions/3.11/lib/python3.11/site-packages/openpyxl/styles/stylesheet.py:226: UserWarning: Workbook contains no default style, apply openpyxl's default\n",
      "  warn(\"Workbook contains no default style, apply openpyxl's default\")\n"
     ]
    },
    {
     "name": "stdout",
     "output_type": "stream",
     "text": [
      "Calendar exported successfully as cui_final_exams_2024_fall.ics!\n"
     ]
    }
   ],
   "source": [
    "if __name__ == \"__main__\":\n",
    "    # Load the exam data from the xlsx file\n",
    "    exam_data = pd.read_excel('data.xlsx')\n",
    "\n",
    "    # User input to select courses to be exported\n",
    "    user_input = input(\"Enter the course codes you want to export (e.g., aer210, phy100), separated by commas: \")\n",
    "    user_courses = [course.strip().upper() for course in user_input.split(',')]\n",
    "\n",
    "    # Filter courses based on user input\n",
    "    selected_courses = exam_data[exam_data['Course'].str.upper().str.contains('|'.join(user_courses), na=False)]\n",
    "\n",
    "    # Filter courses by last name\n",
    "    user_last_name = input(\"Enter your last name: \")\n",
    "    filtered_courses = filter_courses_by_last_name(selected_courses, user_last_name)\n",
    "\n",
    "    # Create the exam calendar\n",
    "    create_exam_calendar(filtered_courses)\n"
   ]
  }
 ],
 "metadata": {
  "language_info": {
   "name": "python"
  }
 },
 "nbformat": 4,
 "nbformat_minor": 2
}
